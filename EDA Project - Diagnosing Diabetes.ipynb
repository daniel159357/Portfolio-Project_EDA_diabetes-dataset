{
 "cells": [
  {
   "cell_type": "markdown",
   "id": "785f1c76",
   "metadata": {},
   "source": [
    "# EDA: Diagnosing Diabetes\n",
    "In this dataset, EDA skills will be used to help inspect, clean, and validate the data.\n",
    "Note: This dataset is from the National Institute of Diabetes and Digestive and Kidney Diseases.\n",
    "https://www.kaggle.com/datasets/uciml/pima-indians-diabetes-database/"
   ]
  },
  {
   "cell_type": "markdown",
   "id": "f96f7711",
   "metadata": {},
   "source": [
    "## Initial Inspection"
   ]
  },
  {
   "cell_type": "code",
   "execution_count": 1,
   "id": "d6ef4552",
   "metadata": {},
   "outputs": [],
   "source": [
    "#1 import library\n",
    "import pandas as pd\n",
    "import numpy as np"
   ]
  },
  {
   "cell_type": "code",
   "execution_count": 2,
   "id": "f00a98dd",
   "metadata": {},
   "outputs": [
    {
     "name": "stdout",
     "output_type": "stream",
     "text": [
      "   Pregnancies  Glucose  BloodPressure  SkinThickness  Insulin   BMI  \\\n",
      "0            6      148             72             35        0  33.6   \n",
      "1            1       85             66             29        0  26.6   \n",
      "2            8      183             64              0        0  23.3   \n",
      "3            1       89             66             23       94  28.1   \n",
      "4            0      137             40             35      168  43.1   \n",
      "\n",
      "   DiabetesPedigreeFunction  Age  Outcome  \n",
      "0                     0.627   50        1  \n",
      "1                     0.351   31        0  \n",
      "2                     0.672   32        1  \n",
      "3                     0.167   21        0  \n",
      "4                     2.288   33        1  \n"
     ]
    }
   ],
   "source": [
    "#2 preview using .head\n",
    "diabetes_data = pd.read_csv(\"diabetes.csv\")\n",
    "print(diabetes_data.head())"
   ]
  },
  {
   "cell_type": "code",
   "execution_count": 3,
   "id": "4d52abd2",
   "metadata": {},
   "outputs": [
    {
     "name": "stdout",
     "output_type": "stream",
     "text": [
      "9\n"
     ]
    }
   ],
   "source": [
    "#3 no. of columns\n",
    "print(len(diabetes_data.columns))"
   ]
  },
  {
   "cell_type": "code",
   "execution_count": 4,
   "id": "e2d49b13",
   "metadata": {},
   "outputs": [
    {
     "name": "stdout",
     "output_type": "stream",
     "text": [
      "768\n"
     ]
    }
   ],
   "source": [
    "#4 no. of rows\n",
    "print(len(diabetes_data))"
   ]
  },
  {
   "cell_type": "markdown",
   "id": "ea6dd3f4",
   "metadata": {},
   "source": [
    "## Further Inspection"
   ]
  },
  {
   "cell_type": "code",
   "execution_count": 5,
   "id": "7899f4e8",
   "metadata": {},
   "outputs": [
    {
     "name": "stdout",
     "output_type": "stream",
     "text": [
      "<class 'pandas.core.frame.DataFrame'>\n",
      "RangeIndex: 768 entries, 0 to 767\n",
      "Data columns (total 9 columns):\n",
      " #   Column                    Non-Null Count  Dtype  \n",
      "---  ------                    --------------  -----  \n",
      " 0   Pregnancies               768 non-null    int64  \n",
      " 1   Glucose                   768 non-null    int64  \n",
      " 2   BloodPressure             768 non-null    int64  \n",
      " 3   SkinThickness             768 non-null    int64  \n",
      " 4   Insulin                   768 non-null    int64  \n",
      " 5   BMI                       768 non-null    float64\n",
      " 6   DiabetesPedigreeFunction  768 non-null    float64\n",
      " 7   Age                       768 non-null    int64  \n",
      " 8   Outcome                   768 non-null    int64  \n",
      "dtypes: float64(2), int64(7)\n",
      "memory usage: 54.1 KB\n",
      "None\n",
      "******\n",
      "Pregnancies                 0\n",
      "Glucose                     0\n",
      "BloodPressure               0\n",
      "SkinThickness               0\n",
      "Insulin                     0\n",
      "BMI                         0\n",
      "DiabetesPedigreeFunction    0\n",
      "Age                         0\n",
      "Outcome                     0\n",
      "dtype: int64\n",
      "******\n"
     ]
    }
   ],
   "source": [
    "#5 To check \"null\" value in columns\n",
    "print(diabetes_data.info())\n",
    "print(\"******\")\n",
    "print(diabetes_data.isnull().sum())\n",
    "print(\"******\")"
   ]
  },
  {
   "cell_type": "code",
   "execution_count": 6,
   "id": "79145ea3",
   "metadata": {},
   "outputs": [
    {
     "name": "stdout",
     "output_type": "stream",
     "text": [
      "       Pregnancies     Glucose  BloodPressure  SkinThickness     Insulin  \\\n",
      "count   768.000000  768.000000     768.000000     768.000000  768.000000   \n",
      "mean      3.845052  120.894531      69.105469      20.536458   79.799479   \n",
      "std       3.369578   31.972618      19.355807      15.952218  115.244002   \n",
      "min       0.000000    0.000000       0.000000       0.000000    0.000000   \n",
      "25%       1.000000   99.000000      62.000000       0.000000    0.000000   \n",
      "50%       3.000000  117.000000      72.000000      23.000000   30.500000   \n",
      "75%       6.000000  140.250000      80.000000      32.000000  127.250000   \n",
      "max      17.000000  199.000000     122.000000      99.000000  846.000000   \n",
      "\n",
      "              BMI  DiabetesPedigreeFunction         Age     Outcome  \n",
      "count  768.000000                768.000000  768.000000  768.000000  \n",
      "mean    31.992578                  0.471876   33.240885    0.348958  \n",
      "std      7.884160                  0.331329   11.760232    0.476951  \n",
      "min      0.000000                  0.078000   21.000000    0.000000  \n",
      "25%     27.300000                  0.243750   24.000000    0.000000  \n",
      "50%     32.000000                  0.372500   29.000000    0.000000  \n",
      "75%     36.600000                  0.626250   41.000000    1.000000  \n",
      "max     67.100000                  2.420000   81.000000    1.000000  \n"
     ]
    }
   ],
   "source": [
    "#6 Further check missing data in columns\n",
    "print(diabetes_data.describe())"
   ]
  },
  {
   "cell_type": "markdown",
   "id": "024376ce",
   "metadata": {},
   "source": [
    "If you take a look at the minimum values for the five columns as below, you’ll notice that they are all 0.\n",
    "[Glucose, BloodPressure, SkinThickness, Insulin, BMI]\n",
    "\n",
    "In addition to the 0 values that show up for the five columns above, there appear to be additional outliers, such as:\n",
    "The maximum value of the Insulin column is 846, which is abnormally high.\n",
    "The maximum value of the Pregnancies column is 17. While having 17 pregnancies is not impossible, this case might be something to look further into to determine its accuracy."
   ]
  },
  {
   "cell_type": "code",
   "execution_count": 7,
   "id": "85a0a1ca",
   "metadata": {},
   "outputs": [],
   "source": [
    "#9 to replace the instances of 0 with NaN\n",
    "diabetes_data[['Glucose','BloodPressure','SkinThickness','Insulin','BMI']] = \\\n",
    "diabetes_data[['Glucose','BloodPressure','SkinThickness','Insulin','BMI']].replace(0,np.nan)"
   ]
  },
  {
   "cell_type": "code",
   "execution_count": 8,
   "id": "42cd6cd3",
   "metadata": {},
   "outputs": [
    {
     "name": "stdout",
     "output_type": "stream",
     "text": [
      "Pregnancies                   0\n",
      "Glucose                       5\n",
      "BloodPressure                35\n",
      "SkinThickness               227\n",
      "Insulin                     374\n",
      "BMI                          11\n",
      "DiabetesPedigreeFunction      0\n",
      "Age                           0\n",
      "Outcome                       0\n",
      "dtype: int64\n"
     ]
    }
   ],
   "source": [
    "#10 check for missing (null) values\n",
    "print(diabetes_data.isnull().sum())"
   ]
  },
  {
   "cell_type": "code",
   "execution_count": 9,
   "id": "1fa3f182",
   "metadata": {},
   "outputs": [
    {
     "name": "stdout",
     "output_type": "stream",
     "text": [
      "     Pregnancies  Glucose  BloodPressure  SkinThickness  Insulin   BMI  \\\n",
      "0              6    148.0           72.0           35.0      NaN  33.6   \n",
      "1              1     85.0           66.0           29.0      NaN  26.6   \n",
      "2              8    183.0           64.0            NaN      NaN  23.3   \n",
      "5              5    116.0           74.0            NaN      NaN  25.6   \n",
      "7             10    115.0            NaN            NaN      NaN  35.3   \n",
      "..           ...      ...            ...            ...      ...   ...   \n",
      "761            9    170.0           74.0           31.0      NaN  44.0   \n",
      "762            9     89.0           62.0            NaN      NaN  22.5   \n",
      "764            2    122.0           70.0           27.0      NaN  36.8   \n",
      "766            1    126.0           60.0            NaN      NaN  30.1   \n",
      "767            1     93.0           70.0           31.0      NaN  30.4   \n",
      "\n",
      "     DiabetesPedigreeFunction  Age  Outcome  \n",
      "0                       0.627   50        1  \n",
      "1                       0.351   31        0  \n",
      "2                       0.672   32        1  \n",
      "5                       0.201   30        0  \n",
      "7                       0.134   29        0  \n",
      "..                        ...  ...      ...  \n",
      "761                     0.403   43        1  \n",
      "762                     0.142   33        0  \n",
      "764                     0.340   27        0  \n",
      "766                     0.349   47        1  \n",
      "767                     0.315   23        0  \n",
      "\n",
      "[376 rows x 9 columns]\n"
     ]
    }
   ],
   "source": [
    "#11 Print out all of the rows that contain missing (null) values\n",
    "print(diabetes_data[diabetes_data.isnull().any(axis=1)])\n",
    "# https://pandas.pydata.org/docs/reference/api/pandas.DataFrame.any.html\n",
    "# https://stackoverflow.com/questions/14247586/how-to-select-rows-with-one-or-more-nulls-from-a-pandas-dataframe-without-listin"
   ]
  },
  {
   "cell_type": "markdown",
   "id": "db3ce52e",
   "metadata": {},
   "source": [
    "One thing you might notice is that most rows with missing data have missing values in more than one column. In fact, every single row with at least one missing value also has a missing value in the insulin column. This is a clue as to why this data is missing! If patients did not have their insulin measured, why might they also not have had these other measurements taken?\n",
    "Depending on how much data is missing, you might choose to remove specific rows or impute the missing values somehow."
   ]
  },
  {
   "cell_type": "code",
   "execution_count": 10,
   "id": "719e2aa9",
   "metadata": {},
   "outputs": [
    {
     "name": "stdout",
     "output_type": "stream",
     "text": [
      "Pregnancies                   int64\n",
      "Glucose                     float64\n",
      "BloodPressure               float64\n",
      "SkinThickness               float64\n",
      "Insulin                     float64\n",
      "BMI                         float64\n",
      "DiabetesPedigreeFunction    float64\n",
      "Age                           int64\n",
      "Outcome                       int64\n",
      "dtype: object\n"
     ]
    }
   ],
   "source": [
    "#13 take a closer look at the data types of each column in diabetes_data.\n",
    "print(diabetes_data.dtypes)"
   ]
  },
  {
   "cell_type": "markdown",
   "id": "03b4f854",
   "metadata": {},
   "source": [
    "There is no unexpected result unmatch to its data type."
   ]
  },
  {
   "cell_type": "code",
   "execution_count": 11,
   "id": "b107e4f0",
   "metadata": {},
   "outputs": [
    {
     "name": "stdout",
     "output_type": "stream",
     "text": [
      "[1 0]\n"
     ]
    }
   ],
   "source": [
    "#14 To check if there is error in the input in Column[Outcome]\n",
    "print(diabetes_data.Outcome.unique())"
   ]
  },
  {
   "cell_type": "markdown",
   "id": "092d3e01",
   "metadata": {},
   "source": [
    "If there is really an error found in this column - say a letter \"O\" is input instead of int[0], the replacement of \"0\" by 0 using the code below is to be performed.\n",
    "diabetes_data['Outcome'] = diabetes_data['Outcome'].replace('O',0)\n",
    "diabetes_data['Outcome'] = diabetes_data['Outcome'].astype(\"int\")\n",
    "print(diabetes_data.Outcome.unique())"
   ]
  },
  {
   "cell_type": "code",
   "execution_count": 12,
   "id": "0bb76a12",
   "metadata": {},
   "outputs": [
    {
     "name": "stdout",
     "output_type": "stream",
     "text": [
      "1     135\n",
      "0     111\n",
      "2     103\n",
      "3      75\n",
      "4      68\n",
      "5      57\n",
      "6      50\n",
      "7      45\n",
      "8      38\n",
      "9      28\n",
      "10     24\n",
      "11     11\n",
      "13     10\n",
      "12      9\n",
      "14      2\n",
      "15      1\n",
      "17      1\n",
      "Name: Pregnancies, dtype: int64\n"
     ]
    }
   ],
   "source": [
    "#16 Use \"value_counts()\" to see the distribution in the selected columns with datatype(int64)\n",
    "print(diabetes_data.Pregnancies.value_counts())"
   ]
  },
  {
   "cell_type": "code",
   "execution_count": 16,
   "id": "658ef020",
   "metadata": {},
   "outputs": [
    {
     "name": "stdout",
     "output_type": "stream",
     "text": [
      "22    72\n",
      "21    63\n",
      "25    48\n",
      "24    46\n",
      "23    38\n",
      "28    35\n",
      "26    33\n",
      "27    32\n",
      "29    29\n",
      "31    24\n",
      "41    22\n",
      "30    21\n",
      "37    19\n",
      "42    18\n",
      "33    17\n",
      "38    16\n",
      "36    16\n",
      "32    16\n",
      "45    15\n",
      "34    14\n",
      "46    13\n",
      "43    13\n",
      "40    13\n",
      "39    12\n",
      "35    10\n",
      "50     8\n",
      "51     8\n",
      "52     8\n",
      "44     8\n",
      "58     7\n",
      "47     6\n",
      "54     6\n",
      "49     5\n",
      "48     5\n",
      "57     5\n",
      "53     5\n",
      "60     5\n",
      "66     4\n",
      "63     4\n",
      "62     4\n",
      "55     4\n",
      "67     3\n",
      "56     3\n",
      "59     3\n",
      "65     3\n",
      "69     2\n",
      "61     2\n",
      "72     1\n",
      "81     1\n",
      "64     1\n",
      "70     1\n",
      "68     1\n",
      "Name: Age, dtype: int64\n",
      "******\n",
      "0    500\n",
      "1    268\n",
      "Name: Outcome, dtype: int64\n",
      "******\n",
      "1     135\n",
      "0     111\n",
      "2     103\n",
      "3      75\n",
      "4      68\n",
      "5      57\n",
      "6      50\n",
      "7      45\n",
      "8      38\n",
      "9      28\n",
      "10     24\n",
      "11     11\n",
      "13     10\n",
      "12      9\n",
      "14      2\n",
      "15      1\n",
      "17      1\n",
      "Name: Pregnancies, dtype: int64\n",
      "******\n",
      "99.0     17\n",
      "100.0    17\n",
      "111.0    14\n",
      "129.0    14\n",
      "125.0    14\n",
      "         ..\n",
      "191.0     1\n",
      "177.0     1\n",
      "44.0      1\n",
      "62.0      1\n",
      "190.0     1\n",
      "Name: Glucose, Length: 135, dtype: int64\n",
      "******\n",
      "70.0     57\n",
      "74.0     52\n",
      "78.0     45\n",
      "68.0     45\n",
      "72.0     44\n",
      "64.0     43\n",
      "80.0     40\n",
      "76.0     39\n",
      "60.0     37\n",
      "62.0     34\n",
      "66.0     30\n",
      "82.0     30\n",
      "88.0     25\n",
      "84.0     23\n",
      "90.0     22\n",
      "58.0     21\n",
      "86.0     21\n",
      "50.0     13\n",
      "56.0     12\n",
      "52.0     11\n",
      "54.0     11\n",
      "75.0      8\n",
      "92.0      8\n",
      "65.0      7\n",
      "94.0      6\n",
      "85.0      6\n",
      "48.0      5\n",
      "96.0      4\n",
      "44.0      4\n",
      "98.0      3\n",
      "100.0     3\n",
      "106.0     3\n",
      "110.0     3\n",
      "55.0      2\n",
      "30.0      2\n",
      "104.0     2\n",
      "46.0      2\n",
      "108.0     2\n",
      "61.0      1\n",
      "38.0      1\n",
      "24.0      1\n",
      "122.0     1\n",
      "102.0     1\n",
      "95.0      1\n",
      "40.0      1\n",
      "114.0     1\n",
      "Name: BloodPressure, dtype: int64\n",
      "******\n"
     ]
    }
   ],
   "source": [
    "int_column = [\"Age\" , \"Outcome\", \"Pregnancies\", \"Glucose\", \"BloodPressure\"]\n",
    "for i in int_column:\n",
    "    print(diabetes_data[i].value_counts())\n",
    "    print(\"******\")"
   ]
  },
  {
   "cell_type": "code",
   "execution_count": null,
   "id": "5bbf6a20",
   "metadata": {},
   "outputs": [],
   "source": []
  },
  {
   "cell_type": "code",
   "execution_count": null,
   "id": "56c6b921",
   "metadata": {},
   "outputs": [],
   "source": []
  },
  {
   "cell_type": "code",
   "execution_count": null,
   "id": "4fd6a0c1",
   "metadata": {},
   "outputs": [],
   "source": []
  }
 ],
 "metadata": {
  "kernelspec": {
   "display_name": "Python 3 (ipykernel)",
   "language": "python",
   "name": "python3"
  },
  "language_info": {
   "codemirror_mode": {
    "name": "ipython",
    "version": 3
   },
   "file_extension": ".py",
   "mimetype": "text/x-python",
   "name": "python",
   "nbconvert_exporter": "python",
   "pygments_lexer": "ipython3",
   "version": "3.10.9"
  }
 },
 "nbformat": 4,
 "nbformat_minor": 5
}
